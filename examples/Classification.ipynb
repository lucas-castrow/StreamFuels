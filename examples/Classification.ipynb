{
 "cells": [
  {
   "cell_type": "markdown",
   "metadata": {
    "id": "4s4TecMcBj1y"
   },
   "source": [
    "# Install"
   ]
  },
  {
   "cell_type": "code",
   "execution_count": null,
   "metadata": {
    "colab": {
     "base_uri": "https://localhost:8080/"
    },
    "executionInfo": {
     "elapsed": 16277,
     "status": "ok",
     "timestamp": 1747417746859,
     "user": {
      "displayName": "Vinicius Souza",
      "userId": "08913563859021607636"
     },
     "user_tz": 180
    },
    "id": "baHmiYTkCIm-",
    "outputId": "46225a05-3725-4b41-d04b-4ec0bab5fa6d"
   },
   "outputs": [
    {
     "name": "stdout",
     "output_type": "stream",
     "text": [
      "Collecting unidecode\n",
      "  Downloading Unidecode-1.4.0-py3-none-any.whl.metadata (13 kB)\n",
      "Downloading Unidecode-1.4.0-py3-none-any.whl (235 kB)\n",
      "\u001b[2K   \u001b[90m━━━━━━━━━━━━━━━━━━━━━━━━━━━━━━━━━━━━━━━━\u001b[0m \u001b[32m235.8/235.8 kB\u001b[0m \u001b[31m3.3 MB/s\u001b[0m eta \u001b[36m0:00:00\u001b[0m\n",
      "\u001b[?25hInstalling collected packages: unidecode\n",
      "Successfully installed unidecode-1.4.0\n",
      "Cloning into 'StreamFuels'...\n",
      "remote: Enumerating objects: 145, done.\u001b[K\n",
      "remote: Counting objects: 100% (145/145), done.\u001b[K\n",
      "remote: Compressing objects: 100% (106/106), done.\u001b[K\n",
      "remote: Total 145 (delta 77), reused 94 (delta 33), pack-reused 0 (from 0)\u001b[K\n",
      "Receiving objects: 100% (145/145), 99.58 KiB | 1.81 MiB/s, done.\n",
      "Resolving deltas: 100% (77/77), done.\n",
      "running install\n",
      "/usr/local/lib/python3.11/dist-packages/setuptools/_distutils/cmd.py:66: SetuptoolsDeprecationWarning: setup.py install is deprecated.\n",
      "!!\n",
      "\n",
      "        ********************************************************************************\n",
      "        Please avoid running ``setup.py`` directly.\n",
      "        Instead, use pypa/build, pypa/installer or other\n",
      "        standards-based tools.\n",
      "\n",
      "        See https://blog.ganssle.io/articles/2021/10/setup-py-deprecated.html for details.\n",
      "        ********************************************************************************\n",
      "\n",
      "!!\n",
      "  self.initialize_options()\n",
      "/usr/local/lib/python3.11/dist-packages/setuptools/_distutils/cmd.py:66: EasyInstallDeprecationWarning: easy_install command is deprecated.\n",
      "!!\n",
      "\n",
      "        ********************************************************************************\n",
      "        Please avoid running ``setup.py`` and ``easy_install``.\n",
      "        Instead, use pypa/build, pypa/installer or other\n",
      "        standards-based tools.\n",
      "\n",
      "        See https://github.com/pypa/setuptools/issues/917 for details.\n",
      "        ********************************************************************************\n",
      "\n",
      "!!\n",
      "  self.initialize_options()\n",
      "running bdist_egg\n",
      "running egg_info\n",
      "creating streamfuels.egg-info\n",
      "writing streamfuels.egg-info/PKG-INFO\n",
      "writing dependency_links to streamfuels.egg-info/dependency_links.txt\n",
      "writing requirements to streamfuels.egg-info/requires.txt\n",
      "writing top-level names to streamfuels.egg-info/top_level.txt\n",
      "writing manifest file 'streamfuels.egg-info/SOURCES.txt'\n",
      "reading manifest file 'streamfuels.egg-info/SOURCES.txt'\n",
      "adding license file 'LICENSE'\n",
      "writing manifest file 'streamfuels.egg-info/SOURCES.txt'\n",
      "installing library code to build/bdist.linux-x86_64/egg\n",
      "running install_lib\n",
      "running build_py\n",
      "creating build/lib/streamfuels\n",
      "copying streamfuels/__init__.py -> build/lib/streamfuels\n",
      "creating build/lib/streamfuels/datasets\n",
      "copying streamfuels/datasets/transform.py -> build/lib/streamfuels/datasets\n",
      "copying streamfuels/datasets/dataset_loader.py -> build/lib/streamfuels/datasets\n",
      "copying streamfuels/datasets/__init__.py -> build/lib/streamfuels/datasets\n",
      "copying streamfuels/datasets/extract.py -> build/lib/streamfuels/datasets\n",
      "copying streamfuels/datasets/auxiliary_functions.py -> build/lib/streamfuels/datasets\n",
      "creating build/bdist.linux-x86_64/egg\n",
      "creating build/bdist.linux-x86_64/egg/streamfuels\n",
      "creating build/bdist.linux-x86_64/egg/streamfuels/datasets\n",
      "copying build/lib/streamfuels/datasets/transform.py -> build/bdist.linux-x86_64/egg/streamfuels/datasets\n",
      "copying build/lib/streamfuels/datasets/dataset_loader.py -> build/bdist.linux-x86_64/egg/streamfuels/datasets\n",
      "copying build/lib/streamfuels/datasets/__init__.py -> build/bdist.linux-x86_64/egg/streamfuels/datasets\n",
      "copying build/lib/streamfuels/datasets/extract.py -> build/bdist.linux-x86_64/egg/streamfuels/datasets\n",
      "copying build/lib/streamfuels/datasets/auxiliary_functions.py -> build/bdist.linux-x86_64/egg/streamfuels/datasets\n",
      "copying build/lib/streamfuels/__init__.py -> build/bdist.linux-x86_64/egg/streamfuels\n",
      "byte-compiling build/bdist.linux-x86_64/egg/streamfuels/datasets/transform.py to transform.cpython-311.pyc\n",
      "byte-compiling build/bdist.linux-x86_64/egg/streamfuels/datasets/dataset_loader.py to dataset_loader.cpython-311.pyc\n",
      "byte-compiling build/bdist.linux-x86_64/egg/streamfuels/datasets/__init__.py to __init__.cpython-311.pyc\n",
      "byte-compiling build/bdist.linux-x86_64/egg/streamfuels/datasets/extract.py to extract.cpython-311.pyc\n",
      "byte-compiling build/bdist.linux-x86_64/egg/streamfuels/datasets/auxiliary_functions.py to auxiliary_functions.cpython-311.pyc\n",
      "byte-compiling build/bdist.linux-x86_64/egg/streamfuels/__init__.py to __init__.cpython-311.pyc\n",
      "creating build/bdist.linux-x86_64/egg/EGG-INFO\n",
      "copying streamfuels.egg-info/PKG-INFO -> build/bdist.linux-x86_64/egg/EGG-INFO\n",
      "copying streamfuels.egg-info/SOURCES.txt -> build/bdist.linux-x86_64/egg/EGG-INFO\n",
      "copying streamfuels.egg-info/dependency_links.txt -> build/bdist.linux-x86_64/egg/EGG-INFO\n",
      "copying streamfuels.egg-info/requires.txt -> build/bdist.linux-x86_64/egg/EGG-INFO\n",
      "copying streamfuels.egg-info/top_level.txt -> build/bdist.linux-x86_64/egg/EGG-INFO\n",
      "zip_safe flag not set; analyzing archive contents...\n",
      "creating dist\n",
      "creating 'dist/streamfuels-0.1.0-py3.11.egg' and adding 'build/bdist.linux-x86_64/egg' to it\n",
      "removing 'build/bdist.linux-x86_64/egg' (and everything under it)\n",
      "Processing streamfuels-0.1.0-py3.11.egg\n",
      "Copying streamfuels-0.1.0-py3.11.egg to /usr/local/lib/python3.11/dist-packages\n",
      "Adding streamfuels 0.1.0 to easy-install.pth file\n",
      "\n",
      "Installed /usr/local/lib/python3.11/dist-packages/streamfuels-0.1.0-py3.11.egg\n",
      "Processing dependencies for streamfuels==0.1.0\n",
      "Searching for tqdm==4.65.0\n",
      "Reading https://pypi.org/simple/tqdm/\n",
      "Downloading https://files.pythonhosted.org/packages/e6/02/a2cff6306177ae6bc73bc0665065de51dfb3b9db7373e122e2735faf0d97/tqdm-4.65.0-py3-none-any.whl#sha256=c4f53a17fe37e132815abceec022631be8ffe1b9381c2e6e30aa70edc99e9671\n",
      "Best match: tqdm 4.65.0\n",
      "Processing tqdm-4.65.0-py3-none-any.whl\n",
      "Installing tqdm-4.65.0-py3-none-any.whl to /usr/local/lib/python3.11/dist-packages\n",
      "Adding tqdm 4.65.0 to easy-install.pth file\n",
      "detected new path './streamfuels-0.1.0-py3.11.egg'\n",
      "Installing tqdm script to /usr/local/bin\n",
      "\n",
      "Installed /usr/local/lib/python3.11/dist-packages/tqdm-4.65.0-py3.11.egg\n",
      "Searching for setuptools==75.2.0\n",
      "Best match: setuptools 75.2.0\n",
      "Adding setuptools 75.2.0 to easy-install.pth file\n",
      "detected new path './tqdm-4.65.0-py3.11.egg'\n",
      "\n",
      "Using /usr/local/lib/python3.11/dist-packages\n",
      "Searching for editdistance==0.8.1\n",
      "Best match: editdistance 0.8.1\n",
      "Adding editdistance 0.8.1 to easy-install.pth file\n",
      "\n",
      "Using /usr/local/lib/python3.11/dist-packages\n",
      "Searching for numpy==2.0.2\n",
      "Best match: numpy 2.0.2\n",
      "Adding numpy 2.0.2 to easy-install.pth file\n",
      "Installing f2py script to /usr/local/bin\n",
      "Installing numpy-config script to /usr/local/bin\n",
      "\n",
      "Using /usr/local/lib/python3.11/dist-packages\n",
      "Searching for Unidecode==1.4.0\n",
      "Best match: Unidecode 1.4.0\n",
      "Adding Unidecode 1.4.0 to easy-install.pth file\n",
      "Installing unidecode script to /usr/local/bin\n",
      "\n",
      "Using /usr/local/lib/python3.11/dist-packages\n",
      "Searching for beautifulsoup4==4.13.4\n",
      "Best match: beautifulsoup4 4.13.4\n",
      "Adding beautifulsoup4 4.13.4 to easy-install.pth file\n",
      "\n",
      "Using /usr/local/lib/python3.11/dist-packages\n",
      "Searching for requests==2.32.3\n",
      "Best match: requests 2.32.3\n",
      "Adding requests 2.32.3 to easy-install.pth file\n",
      "\n",
      "Using /usr/local/lib/python3.11/dist-packages\n",
      "Searching for pandas==2.2.2\n",
      "Best match: pandas 2.2.2\n",
      "Adding pandas 2.2.2 to easy-install.pth file\n",
      "\n",
      "Using /usr/local/lib/python3.11/dist-packages\n",
      "Searching for typing-extensions==4.13.2\n",
      "Best match: typing-extensions 4.13.2\n",
      "Adding typing-extensions 4.13.2 to easy-install.pth file\n",
      "\n",
      "Using /usr/local/lib/python3.11/dist-packages\n",
      "Searching for soupsieve==2.7\n",
      "Best match: soupsieve 2.7\n",
      "Adding soupsieve 2.7 to easy-install.pth file\n",
      "\n",
      "Using /usr/local/lib/python3.11/dist-packages\n",
      "Searching for certifi==2025.4.26\n",
      "Best match: certifi 2025.4.26\n",
      "Adding certifi 2025.4.26 to easy-install.pth file\n",
      "\n",
      "Using /usr/local/lib/python3.11/dist-packages\n",
      "Searching for urllib3==2.4.0\n",
      "Best match: urllib3 2.4.0\n",
      "Adding urllib3 2.4.0 to easy-install.pth file\n",
      "\n",
      "Using /usr/local/lib/python3.11/dist-packages\n",
      "Searching for idna==3.10\n",
      "Best match: idna 3.10\n",
      "Adding idna 3.10 to easy-install.pth file\n",
      "\n",
      "Using /usr/local/lib/python3.11/dist-packages\n",
      "Searching for charset-normalizer==3.4.2\n",
      "Best match: charset-normalizer 3.4.2\n",
      "Adding charset-normalizer 3.4.2 to easy-install.pth file\n",
      "Installing normalizer script to /usr/local/bin\n",
      "\n",
      "Using /usr/local/lib/python3.11/dist-packages\n",
      "Searching for tzdata==2025.2\n",
      "Best match: tzdata 2025.2\n",
      "Adding tzdata 2025.2 to easy-install.pth file\n",
      "\n",
      "Using /usr/local/lib/python3.11/dist-packages\n",
      "Searching for pytz==2025.2\n",
      "Best match: pytz 2025.2\n",
      "Adding pytz 2025.2 to easy-install.pth file\n",
      "\n",
      "Using /usr/local/lib/python3.11/dist-packages\n",
      "Searching for python-dateutil==2.9.0.post0\n",
      "Best match: python-dateutil 2.9.0.post0\n",
      "Adding python-dateutil 2.9.0.post0 to easy-install.pth file\n",
      "\n",
      "Using /usr/local/lib/python3.11/dist-packages\n",
      "Searching for six==1.17.0\n",
      "Best match: six 1.17.0\n",
      "Adding six 1.17.0 to easy-install.pth file\n",
      "\n",
      "Using /usr/local/lib/python3.11/dist-packages\n",
      "Finished processing dependencies for streamfuels==0.1.0\n"
     ]
    }
   ],
   "source": [
    "!pip install streamfuels"
   ]
  },
  {
   "cell_type": "markdown",
   "metadata": {
    "id": "uMlW3V0hDCxT"
   },
   "source": [
    "# Import DatasetLoader from StreamFuels"
   ]
  },
  {
   "cell_type": "code",
   "execution_count": 2,
   "metadata": {
    "executionInfo": {
     "elapsed": 5689,
     "status": "ok",
     "timestamp": 1747417752552,
     "user": {
      "displayName": "Vinicius Souza",
      "userId": "08913563859021607636"
     },
     "user_tz": 180
    },
    "id": "GIz1OGIgCybd"
   },
   "outputs": [],
   "source": [
    "from streamfuels.datasets import DatasetLoader\n",
    "loader = DatasetLoader()\n",
    "\n",
    "# Additional libraries for this notebook\n",
    "import numpy as np\n",
    "import matplotlib.pyplot as plt\n",
    "import pandas as pd\n",
    "import seaborn as sns\n",
    "from collections import Counter\n",
    "from sklearn.model_selection import train_test_split\n",
    "from sklearn.ensemble import RandomForestClassifier\n",
    "from sklearn.neighbors import KNeighborsClassifier\n",
    "from sklearn.metrics import classification_report, confusion_matrix, accuracy_score"
   ]
  },
  {
   "cell_type": "markdown",
   "metadata": {
    "id": "ri_3xVyhd8d0"
   },
   "source": [
    "# Fuel Classification\n",
    "From the monthly fuel sales dataset"
   ]
  },
  {
   "cell_type": "code",
   "execution_count": 3,
   "metadata": {
    "colab": {
     "base_uri": "https://localhost:8080/",
     "height": 224
    },
    "executionInfo": {
     "elapsed": 22742,
     "status": "ok",
     "timestamp": 1747417775292,
     "user": {
      "displayName": "Vinicius Souza",
      "userId": "08913563859021607636"
     },
     "user_tz": 180
    },
    "id": "DWjHBDPKAcJp",
    "outputId": "0333bcfc-62c2-4233-c14a-512dd331fdde"
   },
   "outputs": [
    {
     "name": "stdout",
     "output_type": "stream",
     "text": [
      "dataset downloaded at: ./fuel_type_classification.tsf\n"
     ]
    },
    {
     "data": {
      "application/vnd.google.colaboratory.intrinsic+json": {
       "summary": "{\n  \"name\": \"df\",\n  \"rows\": 14032,\n  \"fields\": [\n    {\n      \"column\": \"t1\",\n      \"properties\": {\n        \"dtype\": \"number\",\n        \"std\": 1.1344423314524055,\n        \"min\": -2.9200908447941316,\n        \"max\": 3.3166247903554003,\n        \"num_unique_values\": 13992,\n        \"samples\": [\n          -0.11134018921574472,\n          -0.29912780372061076,\n          -1.577375520147092\n        ],\n        \"semantic_type\": \"\",\n        \"description\": \"\"\n      }\n    },\n    {\n      \"column\": \"t2\",\n      \"properties\": {\n        \"dtype\": \"number\",\n        \"std\": 1.1548218019245526,\n        \"min\": -3.1855070430333416,\n        \"max\": 3.3166247903554003,\n        \"num_unique_values\": 13995,\n        \"samples\": [\n          -1.3862061486699984,\n          -2.205220990459231,\n          1.2744528218137867\n        ],\n        \"semantic_type\": \"\",\n        \"description\": \"\"\n      }\n    },\n    {\n      \"column\": \"t3\",\n      \"properties\": {\n        \"dtype\": \"number\",\n        \"std\": 0.9014847397363124,\n        \"min\": -2.9520096282341894,\n        \"max\": 3.3166247903554,\n        \"num_unique_values\": 13991,\n        \"samples\": [\n          -1.2046445719049805,\n          -0.6598411733342502,\n          0.5301124026997132\n        ],\n        \"semantic_type\": \"\",\n        \"description\": \"\"\n      }\n    },\n    {\n      \"column\": \"t4\",\n      \"properties\": {\n        \"dtype\": \"number\",\n        \"std\": 0.9072438065853672,\n        \"min\": -2.9326377454313524,\n        \"max\": 3.3166247903554007,\n        \"num_unique_values\": 13991,\n        \"samples\": [\n          0.9558663685745894,\n          -1.1729261863054583,\n          0.006377189145350421\n        ],\n        \"semantic_type\": \"\",\n        \"description\": \"\"\n      }\n    },\n    {\n      \"column\": \"t5\",\n      \"properties\": {\n        \"dtype\": \"number\",\n        \"std\": 0.8445913999303163,\n        \"min\": -3.05775423990028,\n        \"max\": 3.3166247903554003,\n        \"num_unique_values\": 13990,\n        \"samples\": [\n          -0.9565578818063294,\n          0.2909057329162602,\n          0.6251756397145968\n        ],\n        \"semantic_type\": \"\",\n        \"description\": \"\"\n      }\n    },\n    {\n      \"column\": \"t6\",\n      \"properties\": {\n        \"dtype\": \"number\",\n        \"std\": 0.9894463303505441,\n        \"min\": -2.820777153981564,\n        \"max\": 3.3166247903554,\n        \"num_unique_values\": 13986,\n        \"samples\": [\n          0.3541262785650019,\n          -0.04586523503290518,\n          0.4933740522395786\n        ],\n        \"semantic_type\": \"\",\n        \"description\": \"\"\n      }\n    },\n    {\n      \"column\": \"t7\",\n      \"properties\": {\n        \"dtype\": \"number\",\n        \"std\": 0.9820650592775684,\n        \"min\": -3.153444751062789,\n        \"max\": 3.1304951684997055,\n        \"num_unique_values\": 13989,\n        \"samples\": [\n          0.835850131342375,\n          1.5835085744062727,\n          1.829740352576824\n        ],\n        \"semantic_type\": \"\",\n        \"description\": \"\"\n      }\n    },\n    {\n      \"column\": \"t8\",\n      \"properties\": {\n        \"dtype\": \"number\",\n        \"std\": 1.0744817322828903,\n        \"min\": -3.1272406433195963,\n        \"max\": 3.3166247903554,\n        \"num_unique_values\": 13992,\n        \"samples\": [\n          1.744989412814999,\n          0.4582038346808733,\n          1.3483268529492527\n        ],\n        \"semantic_type\": \"\",\n        \"description\": \"\"\n      }\n    },\n    {\n      \"column\": \"t9\",\n      \"properties\": {\n        \"dtype\": \"number\",\n        \"std\": 0.8812108215671229,\n        \"min\": -2.828723000320698,\n        \"max\": 3.3166247903554,\n        \"num_unique_values\": 13992,\n        \"samples\": [\n          -0.17500766563888812,\n          1.1998545849442541,\n          1.1864516722544673\n        ],\n        \"semantic_type\": \"\",\n        \"description\": \"\"\n      }\n    },\n    {\n      \"column\": \"t10\",\n      \"properties\": {\n        \"dtype\": \"number\",\n        \"std\": 0.9160014224131848,\n        \"min\": -2.9726337133271183,\n        \"max\": 3.3166247903554,\n        \"num_unique_values\": 13991,\n        \"samples\": [\n          1.4650553853061707,\n          -0.29568323639590766,\n          1.1240809329351515\n        ],\n        \"semantic_type\": \"\",\n        \"description\": \"\"\n      }\n    },\n    {\n      \"column\": \"t11\",\n      \"properties\": {\n        \"dtype\": \"number\",\n        \"std\": 0.928033584624289,\n        \"min\": -3.1111467431485145,\n        \"max\": 3.290139819237773,\n        \"num_unique_values\": 13991,\n        \"samples\": [\n          0.12224885256786362,\n          0.13549320831815384,\n          -1.6722690512019587\n        ],\n        \"semantic_type\": \"\",\n        \"description\": \"\"\n      }\n    },\n    {\n      \"column\": \"t12\",\n      \"properties\": {\n        \"dtype\": \"number\",\n        \"std\": 1.1124921817628255,\n        \"min\": -2.924615673107845,\n        \"max\": 3.3166247903554,\n        \"num_unique_values\": 13985,\n        \"samples\": [\n          1.7000230985449938,\n          -0.34275546694488196,\n          -0.9725583781691822\n        ],\n        \"semantic_type\": \"\",\n        \"description\": \"\"\n      }\n    },\n    {\n      \"column\": \"label\",\n      \"properties\": {\n        \"dtype\": \"category\",\n        \"num_unique_values\": 8,\n        \"samples\": [\n          \"diesel\",\n          \"gasoline-r\",\n          \"ethanol\"\n        ],\n        \"semantic_type\": \"\",\n        \"description\": \"\"\n      }\n    }\n  ]\n}",
       "type": "dataframe",
       "variable_name": "df"
      },
      "text/html": [
       "\n",
       "  <div id=\"df-e7312ae4-2bc3-4ce8-89cd-db5cf492c04e\" class=\"colab-df-container\">\n",
       "    <div>\n",
       "<style scoped>\n",
       "    .dataframe tbody tr th:only-of-type {\n",
       "        vertical-align: middle;\n",
       "    }\n",
       "\n",
       "    .dataframe tbody tr th {\n",
       "        vertical-align: top;\n",
       "    }\n",
       "\n",
       "    .dataframe thead th {\n",
       "        text-align: right;\n",
       "    }\n",
       "</style>\n",
       "<table border=\"1\" class=\"dataframe\">\n",
       "  <thead>\n",
       "    <tr style=\"text-align: right;\">\n",
       "      <th></th>\n",
       "      <th>t1</th>\n",
       "      <th>t2</th>\n",
       "      <th>t3</th>\n",
       "      <th>t4</th>\n",
       "      <th>t5</th>\n",
       "      <th>t6</th>\n",
       "      <th>t7</th>\n",
       "      <th>t8</th>\n",
       "      <th>t9</th>\n",
       "      <th>t10</th>\n",
       "      <th>t11</th>\n",
       "      <th>t12</th>\n",
       "      <th>label</th>\n",
       "    </tr>\n",
       "  </thead>\n",
       "  <tbody>\n",
       "    <tr>\n",
       "      <th>0</th>\n",
       "      <td>0.937711</td>\n",
       "      <td>-0.804479</td>\n",
       "      <td>-1.002469</td>\n",
       "      <td>0.435951</td>\n",
       "      <td>-1.418243</td>\n",
       "      <td>-0.106512</td>\n",
       "      <td>-0.223090</td>\n",
       "      <td>-0.494080</td>\n",
       "      <td>0.061665</td>\n",
       "      <td>-0.726989</td>\n",
       "      <td>2.322176</td>\n",
       "      <td>1.018359</td>\n",
       "      <td>ethanol</td>\n",
       "    </tr>\n",
       "    <tr>\n",
       "      <th>1</th>\n",
       "      <td>-0.208960</td>\n",
       "      <td>-0.527648</td>\n",
       "      <td>0.125916</td>\n",
       "      <td>-0.801553</td>\n",
       "      <td>2.784311</td>\n",
       "      <td>1.251003</td>\n",
       "      <td>0.087244</td>\n",
       "      <td>-0.828619</td>\n",
       "      <td>-0.770111</td>\n",
       "      <td>-0.332958</td>\n",
       "      <td>-0.368035</td>\n",
       "      <td>-0.410590</td>\n",
       "      <td>ethanol</td>\n",
       "    </tr>\n",
       "    <tr>\n",
       "      <th>2</th>\n",
       "      <td>0.235901</td>\n",
       "      <td>-0.720729</td>\n",
       "      <td>-0.659616</td>\n",
       "      <td>-0.203005</td>\n",
       "      <td>-0.239643</td>\n",
       "      <td>-0.284093</td>\n",
       "      <td>1.720811</td>\n",
       "      <td>1.236119</td>\n",
       "      <td>-0.206170</td>\n",
       "      <td>0.966724</td>\n",
       "      <td>-2.272187</td>\n",
       "      <td>0.425889</td>\n",
       "      <td>ethanol</td>\n",
       "    </tr>\n",
       "    <tr>\n",
       "      <th>3</th>\n",
       "      <td>1.774912</td>\n",
       "      <td>1.331419</td>\n",
       "      <td>0.011724</td>\n",
       "      <td>1.084923</td>\n",
       "      <td>-1.878683</td>\n",
       "      <td>0.590058</td>\n",
       "      <td>-0.317771</td>\n",
       "      <td>-0.511967</td>\n",
       "      <td>-0.932614</td>\n",
       "      <td>-0.142796</td>\n",
       "      <td>-0.864949</td>\n",
       "      <td>-0.144255</td>\n",
       "      <td>ethanol</td>\n",
       "    </tr>\n",
       "    <tr>\n",
       "      <th>4</th>\n",
       "      <td>0.719951</td>\n",
       "      <td>0.110207</td>\n",
       "      <td>-1.210560</td>\n",
       "      <td>1.269346</td>\n",
       "      <td>-0.998101</td>\n",
       "      <td>1.264763</td>\n",
       "      <td>1.410154</td>\n",
       "      <td>-0.876278</td>\n",
       "      <td>-1.698492</td>\n",
       "      <td>0.057707</td>\n",
       "      <td>-0.299310</td>\n",
       "      <td>0.250613</td>\n",
       "      <td>ethanol</td>\n",
       "    </tr>\n",
       "  </tbody>\n",
       "</table>\n",
       "</div>\n",
       "    <div class=\"colab-df-buttons\">\n",
       "\n",
       "  <div class=\"colab-df-container\">\n",
       "    <button class=\"colab-df-convert\" onclick=\"convertToInteractive('df-e7312ae4-2bc3-4ce8-89cd-db5cf492c04e')\"\n",
       "            title=\"Convert this dataframe to an interactive table.\"\n",
       "            style=\"display:none;\">\n",
       "\n",
       "  <svg xmlns=\"http://www.w3.org/2000/svg\" height=\"24px\" viewBox=\"0 -960 960 960\">\n",
       "    <path d=\"M120-120v-720h720v720H120Zm60-500h600v-160H180v160Zm220 220h160v-160H400v160Zm0 220h160v-160H400v160ZM180-400h160v-160H180v160Zm440 0h160v-160H620v160ZM180-180h160v-160H180v160Zm440 0h160v-160H620v160Z\"/>\n",
       "  </svg>\n",
       "    </button>\n",
       "\n",
       "  <style>\n",
       "    .colab-df-container {\n",
       "      display:flex;\n",
       "      gap: 12px;\n",
       "    }\n",
       "\n",
       "    .colab-df-convert {\n",
       "      background-color: #E8F0FE;\n",
       "      border: none;\n",
       "      border-radius: 50%;\n",
       "      cursor: pointer;\n",
       "      display: none;\n",
       "      fill: #1967D2;\n",
       "      height: 32px;\n",
       "      padding: 0 0 0 0;\n",
       "      width: 32px;\n",
       "    }\n",
       "\n",
       "    .colab-df-convert:hover {\n",
       "      background-color: #E2EBFA;\n",
       "      box-shadow: 0px 1px 2px rgba(60, 64, 67, 0.3), 0px 1px 3px 1px rgba(60, 64, 67, 0.15);\n",
       "      fill: #174EA6;\n",
       "    }\n",
       "\n",
       "    .colab-df-buttons div {\n",
       "      margin-bottom: 4px;\n",
       "    }\n",
       "\n",
       "    [theme=dark] .colab-df-convert {\n",
       "      background-color: #3B4455;\n",
       "      fill: #D2E3FC;\n",
       "    }\n",
       "\n",
       "    [theme=dark] .colab-df-convert:hover {\n",
       "      background-color: #434B5C;\n",
       "      box-shadow: 0px 1px 3px 1px rgba(0, 0, 0, 0.15);\n",
       "      filter: drop-shadow(0px 1px 2px rgba(0, 0, 0, 0.3));\n",
       "      fill: #FFFFFF;\n",
       "    }\n",
       "  </style>\n",
       "\n",
       "    <script>\n",
       "      const buttonEl =\n",
       "        document.querySelector('#df-e7312ae4-2bc3-4ce8-89cd-db5cf492c04e button.colab-df-convert');\n",
       "      buttonEl.style.display =\n",
       "        google.colab.kernel.accessAllowed ? 'block' : 'none';\n",
       "\n",
       "      async function convertToInteractive(key) {\n",
       "        const element = document.querySelector('#df-e7312ae4-2bc3-4ce8-89cd-db5cf492c04e');\n",
       "        const dataTable =\n",
       "          await google.colab.kernel.invokeFunction('convertToInteractive',\n",
       "                                                    [key], {});\n",
       "        if (!dataTable) return;\n",
       "\n",
       "        const docLinkHtml = 'Like what you see? Visit the ' +\n",
       "          '<a target=\"_blank\" href=https://colab.research.google.com/notebooks/data_table.ipynb>data table notebook</a>'\n",
       "          + ' to learn more about interactive tables.';\n",
       "        element.innerHTML = '';\n",
       "        dataTable['output_type'] = 'display_data';\n",
       "        await google.colab.output.renderOutput(dataTable, element);\n",
       "        const docLink = document.createElement('div');\n",
       "        docLink.innerHTML = docLinkHtml;\n",
       "        element.appendChild(docLink);\n",
       "      }\n",
       "    </script>\n",
       "  </div>\n",
       "\n",
       "\n",
       "    <div id=\"df-7a68aeff-600e-4f72-b8b1-d1325cac68b4\">\n",
       "      <button class=\"colab-df-quickchart\" onclick=\"quickchart('df-7a68aeff-600e-4f72-b8b1-d1325cac68b4')\"\n",
       "                title=\"Suggest charts\"\n",
       "                style=\"display:none;\">\n",
       "\n",
       "<svg xmlns=\"http://www.w3.org/2000/svg\" height=\"24px\"viewBox=\"0 0 24 24\"\n",
       "     width=\"24px\">\n",
       "    <g>\n",
       "        <path d=\"M19 3H5c-1.1 0-2 .9-2 2v14c0 1.1.9 2 2 2h14c1.1 0 2-.9 2-2V5c0-1.1-.9-2-2-2zM9 17H7v-7h2v7zm4 0h-2V7h2v10zm4 0h-2v-4h2v4z\"/>\n",
       "    </g>\n",
       "</svg>\n",
       "      </button>\n",
       "\n",
       "<style>\n",
       "  .colab-df-quickchart {\n",
       "      --bg-color: #E8F0FE;\n",
       "      --fill-color: #1967D2;\n",
       "      --hover-bg-color: #E2EBFA;\n",
       "      --hover-fill-color: #174EA6;\n",
       "      --disabled-fill-color: #AAA;\n",
       "      --disabled-bg-color: #DDD;\n",
       "  }\n",
       "\n",
       "  [theme=dark] .colab-df-quickchart {\n",
       "      --bg-color: #3B4455;\n",
       "      --fill-color: #D2E3FC;\n",
       "      --hover-bg-color: #434B5C;\n",
       "      --hover-fill-color: #FFFFFF;\n",
       "      --disabled-bg-color: #3B4455;\n",
       "      --disabled-fill-color: #666;\n",
       "  }\n",
       "\n",
       "  .colab-df-quickchart {\n",
       "    background-color: var(--bg-color);\n",
       "    border: none;\n",
       "    border-radius: 50%;\n",
       "    cursor: pointer;\n",
       "    display: none;\n",
       "    fill: var(--fill-color);\n",
       "    height: 32px;\n",
       "    padding: 0;\n",
       "    width: 32px;\n",
       "  }\n",
       "\n",
       "  .colab-df-quickchart:hover {\n",
       "    background-color: var(--hover-bg-color);\n",
       "    box-shadow: 0 1px 2px rgba(60, 64, 67, 0.3), 0 1px 3px 1px rgba(60, 64, 67, 0.15);\n",
       "    fill: var(--button-hover-fill-color);\n",
       "  }\n",
       "\n",
       "  .colab-df-quickchart-complete:disabled,\n",
       "  .colab-df-quickchart-complete:disabled:hover {\n",
       "    background-color: var(--disabled-bg-color);\n",
       "    fill: var(--disabled-fill-color);\n",
       "    box-shadow: none;\n",
       "  }\n",
       "\n",
       "  .colab-df-spinner {\n",
       "    border: 2px solid var(--fill-color);\n",
       "    border-color: transparent;\n",
       "    border-bottom-color: var(--fill-color);\n",
       "    animation:\n",
       "      spin 1s steps(1) infinite;\n",
       "  }\n",
       "\n",
       "  @keyframes spin {\n",
       "    0% {\n",
       "      border-color: transparent;\n",
       "      border-bottom-color: var(--fill-color);\n",
       "      border-left-color: var(--fill-color);\n",
       "    }\n",
       "    20% {\n",
       "      border-color: transparent;\n",
       "      border-left-color: var(--fill-color);\n",
       "      border-top-color: var(--fill-color);\n",
       "    }\n",
       "    30% {\n",
       "      border-color: transparent;\n",
       "      border-left-color: var(--fill-color);\n",
       "      border-top-color: var(--fill-color);\n",
       "      border-right-color: var(--fill-color);\n",
       "    }\n",
       "    40% {\n",
       "      border-color: transparent;\n",
       "      border-right-color: var(--fill-color);\n",
       "      border-top-color: var(--fill-color);\n",
       "    }\n",
       "    60% {\n",
       "      border-color: transparent;\n",
       "      border-right-color: var(--fill-color);\n",
       "    }\n",
       "    80% {\n",
       "      border-color: transparent;\n",
       "      border-right-color: var(--fill-color);\n",
       "      border-bottom-color: var(--fill-color);\n",
       "    }\n",
       "    90% {\n",
       "      border-color: transparent;\n",
       "      border-bottom-color: var(--fill-color);\n",
       "    }\n",
       "  }\n",
       "</style>\n",
       "\n",
       "      <script>\n",
       "        async function quickchart(key) {\n",
       "          const quickchartButtonEl =\n",
       "            document.querySelector('#' + key + ' button');\n",
       "          quickchartButtonEl.disabled = true;  // To prevent multiple clicks.\n",
       "          quickchartButtonEl.classList.add('colab-df-spinner');\n",
       "          try {\n",
       "            const charts = await google.colab.kernel.invokeFunction(\n",
       "                'suggestCharts', [key], {});\n",
       "          } catch (error) {\n",
       "            console.error('Error during call to suggestCharts:', error);\n",
       "          }\n",
       "          quickchartButtonEl.classList.remove('colab-df-spinner');\n",
       "          quickchartButtonEl.classList.add('colab-df-quickchart-complete');\n",
       "        }\n",
       "        (() => {\n",
       "          let quickchartButtonEl =\n",
       "            document.querySelector('#df-7a68aeff-600e-4f72-b8b1-d1325cac68b4 button');\n",
       "          quickchartButtonEl.style.display =\n",
       "            google.colab.kernel.accessAllowed ? 'block' : 'none';\n",
       "        })();\n",
       "      </script>\n",
       "    </div>\n",
       "\n",
       "    </div>\n",
       "  </div>\n"
      ],
      "text/plain": [
       "         t1        t2        t3        t4        t5        t6        t7  \\\n",
       "0  0.937711 -0.804479 -1.002469  0.435951 -1.418243 -0.106512 -0.223090   \n",
       "1 -0.208960 -0.527648  0.125916 -0.801553  2.784311  1.251003  0.087244   \n",
       "2  0.235901 -0.720729 -0.659616 -0.203005 -0.239643 -0.284093  1.720811   \n",
       "3  1.774912  1.331419  0.011724  1.084923 -1.878683  0.590058 -0.317771   \n",
       "4  0.719951  0.110207 -1.210560  1.269346 -0.998101  1.264763  1.410154   \n",
       "\n",
       "         t8        t9       t10       t11       t12    label  \n",
       "0 -0.494080  0.061665 -0.726989  2.322176  1.018359  ethanol  \n",
       "1 -0.828619 -0.770111 -0.332958 -0.368035 -0.410590  ethanol  \n",
       "2  1.236119 -0.206170  0.966724 -2.272187  0.425889  ethanol  \n",
       "3 -0.511967 -0.932614 -0.142796 -0.864949 -0.144255  ethanol  \n",
       "4 -0.876278 -1.698492  0.057707 -0.299310  0.250613  ethanol  "
      ]
     },
     "execution_count": 3,
     "metadata": {},
     "output_type": "execute_result"
    }
   ],
   "source": [
    "df = loader.fuel_type_classification()\n",
    "df.head(5)"
   ]
  },
  {
   "cell_type": "markdown",
   "metadata": {
    "id": "Le4OQeM3CiIW"
   },
   "source": [
    "Analysis of class distribution"
   ]
  },
  {
   "cell_type": "code",
   "execution_count": null,
   "metadata": {
    "colab": {
     "base_uri": "https://localhost:8080/",
     "height": 201
    },
    "executionInfo": {
     "elapsed": 200,
     "status": "ok",
     "timestamp": 1747146552209,
     "user": {
      "displayName": "Vinicius Souza",
      "userId": "08913563859021607636"
     },
     "user_tz": 180
    },
    "id": "CgcZGmoeClm0",
    "outputId": "cddcc052-9b79-4190-ad9c-3a622a783510"
   },
   "outputs": [
    {
     "data": {
      "image/png": "[encoded data removed]",
      "text/plain": [
       "<Figure size 500x200 with 1 Axes>"
      ]
     },
     "metadata": {},
     "output_type": "display_data"
    }
   ],
   "source": [
    "targets = df['label'].values\n",
    "count = Counter(targets)\n",
    "\n",
    "categories = list(count.keys())\n",
    "freq = list(count.values())\n",
    "\n",
    "plt.figure(figsize=(5, 2))\n",
    "bars = plt.bar(categories, freq, color='skyblue')\n",
    "plt.ylabel('Examples')\n",
    "plt.ylim([0,2500])\n",
    "plt.xticks(rotation=45)\n",
    "\n",
    "\n",
    "for b in bars:\n",
    "    height = b.get_height()\n",
    "    plt.text(b.get_x() + b.get_width() / 2, height,\n",
    "             str(height), ha='center', va='bottom', fontsize=8)\n",
    "\n",
    "plt.tight_layout()\n"
   ]
  },
  {
   "cell_type": "markdown",
   "metadata": {
    "id": "xlIt0oFQA9Pm"
   },
   "source": [
    "Split the dataset in training (70%) and test (30%)"
   ]
  },
  {
   "cell_type": "code",
   "execution_count": 4,
   "metadata": {
    "executionInfo": {
     "elapsed": 23,
     "status": "ok",
     "timestamp": 1747417775293,
     "user": {
      "displayName": "Vinicius Souza",
      "userId": "08913563859021607636"
     },
     "user_tz": 180
    },
    "id": "6-WrQwdvhbRg"
   },
   "outputs": [],
   "source": [
    "data = df.drop(columns=['label']).values\n",
    "targets = df['label'].values\n",
    "\n",
    "X_train, X_test, y_train, y_test = train_test_split(\n",
    "    data, targets, test_size=0.3, random_state=6, stratify=targets\n",
    ")"
   ]
  },
  {
   "cell_type": "markdown",
   "metadata": {
    "id": "51Jq8nwUBJ6U"
   },
   "source": [
    "Train and test a Random Forest and 1NN classifiers"
   ]
  },
  {
   "cell_type": "code",
   "execution_count": 5,
   "metadata": {
    "executionInfo": {
     "elapsed": 4421,
     "status": "ok",
     "timestamp": 1747417779711,
     "user": {
      "displayName": "Vinicius Souza",
      "userId": "08913563859021607636"
     },
     "user_tz": 180
    },
    "id": "GvYv7VMmBIYm"
   },
   "outputs": [],
   "source": [
    "clf1 = RandomForestClassifier(random_state=42)\n",
    "clf1.fit(X_train, y_train)\n",
    "\n",
    "clf2 = KNeighborsClassifier(n_neighbors=1)\n",
    "clf2.fit(X_train, y_train)\n",
    "\n",
    "y_pred1 = clf1.predict(X_test)\n",
    "y_pred2 = clf2.predict(X_test)\n",
    "\n",
    "cm1 = confusion_matrix(y_test, y_pred1)\n",
    "cm2 = confusion_matrix(y_test, y_pred2)"
   ]
  },
  {
   "cell_type": "code",
   "execution_count": 29,
   "metadata": {
    "colab": {
     "base_uri": "https://localhost:8080/",
     "height": 635
    },
    "executionInfo": {
     "elapsed": 1826,
     "status": "ok",
     "timestamp": 1747418321139,
     "user": {
      "displayName": "Vinicius Souza",
      "userId": "08913563859021607636"
     },
     "user_tz": 180
    },
    "id": "pOoT1rdWMlXq",
    "outputId": "9483d119-9962-4b14-aa70-022225f08588"
   },
   "outputs": [
    {
     "name": "stdout",
     "output_type": "stream",
     "text": [
      "Random Forest results: \n",
      "               precision    recall  f1-score   support\n",
      "\n",
      "         LPG       0.61      0.75      0.67       559\n",
      "      diesel       0.53      0.65      0.58       559\n",
      "     ethanol       0.49      0.49      0.49       559\n",
      "    fuel oil       0.33      0.26      0.29       493\n",
      "  gasoline-a       0.33      0.36      0.35       554\n",
      "  gasoline-r       0.60      0.64      0.62       559\n",
      "  kerosene-a       0.52      0.45      0.48       559\n",
      "  kerosene-i       0.36      0.20      0.26       368\n",
      "\n",
      "    accuracy                           0.49      4210\n",
      "   macro avg       0.47      0.48      0.47      4210\n",
      "weighted avg       0.48      0.49      0.48      4210\n",
      "\n"
     ]
    },
    {
     "data": {
      "image/png": "[encoded data removed]",
      "text/plain": [
       "<Figure size 400x350 with 1 Axes>"
      ]
     },
     "metadata": {},
     "output_type": "display_data"
    }
   ],
   "source": [
    "print(f'Random Forest results: \\n {classification_report(y_test, y_pred1)}')\n",
    "plt.figure(figsize=(4, 3.5))\n",
    "sns.heatmap(cm1, annot=True, fmt=\"d\", cmap=\"Grays\", cbar=False, xticklabels=np.unique(targets), yticklabels=np.unique(targets))\n",
    "\n",
    "plt.xlabel(\"Predicted Label\")\n",
    "plt.ylabel(\"True Label\")\n",
    "plt.xticks(rotation=45)\n",
    "plt.tight_layout()\n",
    "plt.savefig(\"classification_matrix_RF.pdf\", format=\"pdf\", bbox_inches=\"tight\")"
   ]
  },
  {
   "cell_type": "code",
   "execution_count": 30,
   "metadata": {
    "colab": {
     "base_uri": "https://localhost:8080/",
     "height": 635
    },
    "executionInfo": {
     "elapsed": 605,
     "status": "ok",
     "timestamp": 1747418336702,
     "user": {
      "displayName": "Vinicius Souza",
      "userId": "08913563859021607636"
     },
     "user_tz": 180
    },
    "id": "fPHipWdmxG3u",
    "outputId": "3f829638-29fd-400e-ae2f-76c52b915c5d"
   },
   "outputs": [
    {
     "name": "stdout",
     "output_type": "stream",
     "text": [
      "1NN results: \n",
      "               precision    recall  f1-score   support\n",
      "\n",
      "         LPG       0.62      0.71      0.66       559\n",
      "      diesel       0.55      0.58      0.56       559\n",
      "     ethanol       0.44      0.49      0.47       559\n",
      "    fuel oil       0.25      0.22      0.23       493\n",
      "  gasoline-a       0.32      0.25      0.28       554\n",
      "  gasoline-r       0.55      0.62      0.59       559\n",
      "  kerosene-a       0.43      0.44      0.43       559\n",
      "  kerosene-i       0.29      0.25      0.27       368\n",
      "\n",
      "    accuracy                           0.46      4210\n",
      "   macro avg       0.43      0.44      0.44      4210\n",
      "weighted avg       0.44      0.46      0.45      4210\n",
      "\n"
     ]
    },
    {
     "data": {
      "image/png": "[encoded data removed]",
      "text/plain": [
       "<Figure size 400x350 with 1 Axes>"
      ]
     },
     "metadata": {},
     "output_type": "display_data"
    }
   ],
   "source": [
    "print(f'1NN results: \\n {classification_report(y_test, y_pred2)}')\n",
    "plt.figure(figsize=(4, 3.5))\n",
    "sns.heatmap(cm2, annot=True, fmt=\"d\", cmap=\"Grays\", cbar=False, xticklabels=np.unique(targets), yticklabels=np.unique(targets))\n",
    "\n",
    "plt.xlabel(\"Predicted Label\")\n",
    "plt.ylabel(\"True Label\")\n",
    "plt.xticks(rotation=45)\n",
    "\n",
    "plt.tight_layout()\n",
    "plt.savefig(\"classification_matrix_kNN.pdf\", format=\"pdf\", bbox_inches=\"tight\")"
   ]
  },
  {
   "cell_type": "code",
   "execution_count": null,
   "metadata": {
    "id": "18GCKdrCP8p_"
   },
   "outputs": [],
   "source": []
  }
 ],
 "metadata": {
  "colab": {
   "authorship_tag": "ABX9TyO9YTXeBo3l43nBNVOikDQd",
   "collapsed_sections": [
    "4s4TecMcBj1y",
    "uMlW3V0hDCxT"
   ],
   "provenance": []
  },
  "kernelspec": {
   "display_name": "base",
   "language": "python",
   "name": "python3"
  },
  "language_info": {
   "name": "python",
   "version": "3.11.7"
  }
 },
 "nbformat": 4,
 "nbformat_minor": 0
}
